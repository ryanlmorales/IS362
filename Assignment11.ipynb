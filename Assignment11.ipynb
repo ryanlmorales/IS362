{
 "cells": [
  {
   "cell_type": "code",
   "execution_count": null,
   "metadata": {},
   "outputs": [],
   "source": [
    "library(httr)\n",
    "library(rjson)\n",
    "library(jsonlite)\n",
    "library(dplyr)"
   ]
  },
  {
   "cell_type": "code",
   "execution_count": null,
   "metadata": {},
   "outputs": [],
   "source": [
    "nyt_book_list <- GET(\"https://api.nytimes.com/svc/books/v3/lists/overview.json?api-key=BRnDpUYaARf4t6wEHdpdRQQQw7s48bMf\")\n",
    "nyt_book_list"
   ]
  },
  {
   "cell_type": "code",
   "execution_count": null,
   "metadata": {},
   "outputs": [],
   "source": [
    "response <- content(nyt_book_list) #view all the content structure\n",
    "http_status(nyt_book_list)"
   ]
  },
  {
   "cell_type": "code",
   "execution_count": null,
   "metadata": {},
   "outputs": [],
   "source": [
    "books <- fromJSON(nyt_book_list$url) \n",
    "\n",
    "typeof(books) # list "
   ]
  },
  {
   "cell_type": "code",
   "execution_count": null,
   "metadata": {},
   "outputs": [],
   "source": [
    "author <- vector()\n",
    "publisher <- vector()\n",
    "title <- vector()\n",
    "rank <- vector()\n",
    "list_name <- vector()\n",
    "#Loop through books on the best sellers list\n",
    "for ( i in 1: 18) {\n",
    "  for (j in 1:5) {\n",
    "      list_name <- c(response$results$lists[[i]]$list_name, list_name)\n",
    "      title <- c( response$results$lists[[i]]$books[[j]]$title, title) \n",
    "      author <- c( response$results$lists[[i]]$books[[j]]$author, author) \n",
    "      publisher <- c( response$results$lists[[i]]$books[[j]]$publisher, publisher) \n",
    "      rank <- c(  as.numeric  (response$results$lists[[i]]$books[[j]]$rank, rank   ))\n",
    "  }\n",
    "\n",
    "}\n",
    "\n",
    "#Create a dataframe\n",
    "books_df = data.frame(\n",
    "  list_name = list_name,\n",
    "  title = title,\n",
    "  author = author,\n",
    "  publisher = publisher,\n",
    "  rank = rank\n",
    "  )\n",
    "\n",
    "books_df"
   ]
  },
  {
   "cell_type": "code",
   "execution_count": null,
   "metadata": {},
   "outputs": [],
   "source": [
    "Young Adult Paperback Monthly\tDEAR MARTIN\t\n",
    "Young Adult Paperback Monthly\tSCYTHE\t\n",
    "Young Adult Paperback Monthly\tLONG WAY DOWN\t\n",
    "Young Adult Paperback Monthly\tTHE ABSOLUTELY TRUE DIARY OF A PART-TIME INDIAN\t\n",
    "Young Adult Paperback Monthly\tSALT TO THE SEA\t\n",
    "Middle Grade Paperback Monthly\tFRONT DESK\t\n",
    "Middle Grade Paperback Monthly\tRESTART\t\n",
    "Middle Grade Paperback Monthly\tOUT OF MY MIND\t\n",
    "Middle Grade Paperback Monthly\tTHE ONE AND ONLY IVAN\t\n",
    "Middle Grade Paperback Monthly\tA LONG WALK TO WATER"
   ]
  },
  {
   "cell_type": "code",
   "execution_count": null,
   "metadata": {},
   "outputs": [],
   "source": [
    "is.data.frame(books_df)"
   ]
  },
  {
   "cell_type": "code",
   "execution_count": null,
   "metadata": {},
   "outputs": [],
   "source": [
    "NYT_books_df <- write.table(books_df, file = \"NYT_Readings.csv\", row.names = FALSE, na=\"\", col.names = TRUE, sep = \",\")"
   ]
  },
  {
   "cell_type": "code",
   "execution_count": null,
   "metadata": {},
   "outputs": [],
   "source": [
    "file_test(\"-f\", \"~/Desktop/NYT_Readings.csv\")"
   ]
  }
 ],
 "metadata": {
  "kernelspec": {
   "display_name": "Python 3",
   "language": "python",
   "name": "python3"
  },
  "language_info": {
   "codemirror_mode": {
    "name": "ipython",
    "version": 3
   },
   "file_extension": ".py",
   "mimetype": "text/x-python",
   "name": "python",
   "nbconvert_exporter": "python",
   "pygments_lexer": "ipython3",
   "version": "3.8.5"
  }
 },
 "nbformat": 4,
 "nbformat_minor": 4
}
