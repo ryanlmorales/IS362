{
 "cells": [
  {
   "cell_type": "markdown",
   "metadata": {},
   "source": [
    "This data Structure utlizes a List Comprehension"
   ]
  },
  {
   "cell_type": "code",
   "execution_count": 46,
   "metadata": {},
   "outputs": [
    {
     "name": "stdout",
     "output_type": "stream",
     "text": [
      "[1, 8, 27, 64, 125, 216, 343, 512, 729, 1000, 1331, 1728, 2197, 2744, 3375, 4096, 4913, 5832, 6859]\n"
     ]
    }
   ],
   "source": [
    "'''This List Comprehension multplies a number wihtin the range, \n",
    "1 through 20, by itself 3 times. It then returns the result'''\n",
    "\n",
    "Cube = [i**3 for i in range(1, 20)]\n",
    "    \n",
    "print(Cube)\n",
    "        "
   ]
  },
  {
   "cell_type": "markdown",
   "metadata": {},
   "source": [
    "This data structure is a Set Comprehension"
   ]
  },
  {
   "cell_type": "code",
   "execution_count": 58,
   "metadata": {},
   "outputs": [
    {
     "name": "stdout",
     "output_type": "stream",
     "text": [
      "{85616, 12032, 51654}\n"
     ]
    }
   ],
   "source": [
    "\"\"\"This Set Comprehension is used to return all Zip Codes\"\"\"\n",
    "\n",
    "class Address:\n",
    "    \n",
    "    def __init__(address, house_number, street, city, zip_code):\n",
    "        address.house_number = house_number\n",
    "        address.street = street\n",
    "        address.city = city\n",
    "        address.zip_code = zip_code\n",
    "\n",
    "\n",
    "Addresses = [ Address(515, \"Stranton Avenue\",\"Herald\", 51654), \n",
    "           Address(986, \"Diamond Street\", \"Jameson\", 85616), \n",
    "           Address(654, \"Syndey Road\", \"Tupper\", 12032) ]\n",
    "\n",
    "all_zip_codes = { address.zip_code for address in Addresses }\n",
    "\n",
    "print(all_zip_codes)"
   ]
  },
  {
   "cell_type": "code",
   "execution_count": null,
   "metadata": {},
   "outputs": [],
   "source": []
  }
 ],
 "metadata": {
  "kernelspec": {
   "display_name": "Python 3",
   "language": "python",
   "name": "python3"
  },
  "language_info": {
   "codemirror_mode": {
    "name": "ipython",
    "version": 3
   },
   "file_extension": ".py",
   "mimetype": "text/x-python",
   "name": "python",
   "nbconvert_exporter": "python",
   "pygments_lexer": "ipython3",
   "version": "3.8.5"
  }
 },
 "nbformat": 4,
 "nbformat_minor": 4
}
